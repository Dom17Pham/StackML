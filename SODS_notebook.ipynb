{
 "cells": [
  {
   "cell_type": "markdown",
   "metadata": {},
   "source": [
    "## Import Libraries"
   ]
  },
  {
   "cell_type": "code",
   "execution_count": null,
   "metadata": {},
   "outputs": [],
   "source": [
    "import pandas as pd\n",
    "import os "
   ]
  },
  {
   "cell_type": "code",
   "execution_count": null,
   "metadata": {},
   "outputs": [],
   "source": [
    "directory = os.path.dirname(os.path.abspath(__file__))\n",
    "SODS_data = pd.DataFrame()\n",
    "\n",
    "for file_name in os.listdir(directory):\n",
    "    if file_name.endswith(\".csv\"):\n",
    "        filepath = os.path.join(directory, file_name)\n",
    "        df = pd.read_csv(filepath)\n",
    "        SODS_data = pd.concat([SODS_data, df], ignore_index=True)\n",
    "\n",
    "SODS_data.info()"
   ]
  }
 ],
 "metadata": {
  "kernelspec": {
   "display_name": "venv",
   "language": "python",
   "name": "python3"
  },
  "language_info": {
   "name": "python",
   "version": "3.11.5"
  }
 },
 "nbformat": 4,
 "nbformat_minor": 2
}
